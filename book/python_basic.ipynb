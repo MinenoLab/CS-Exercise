{
 "cells": [
  {
   "cell_type": "markdown",
   "id": "61a2a257",
   "metadata": {},
   "source": [
    "# Pythonプログラム入門\n",
    "\n",
    "機械学習では主にPython言語が用いられます．まずは，Pythonの基本的な文法を覚えましょう．\n",
    "\n",
    "## Colaboratoryの使い方\n"
   ]
  }
 ],
 "metadata": {
  "language_info": {
   "name": "python"
  }
 },
 "nbformat": 4,
 "nbformat_minor": 5
}
